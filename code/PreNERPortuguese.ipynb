{
 "cells": [
  {
   "cell_type": "markdown",
   "metadata": {},
   "source": [
    "# Extração de Entidades Nomeadas - Pré-Processamento \n",
    "\n",
    "A extração de entidades nomeadas foi aplicada somente aos textos dos Depoentes e Convidados. Os textos estão no arquivo `input/discurso_dia_depoente_convidado.csv`. "
   ]
  },
  {
   "cell_type": "code",
   "execution_count": 1,
   "metadata": {},
   "outputs": [],
   "source": [
    "import pandas as pd \n",
    "import json"
   ]
  },
  {
   "cell_type": "markdown",
   "metadata": {},
   "source": [
    "Esse documento foi gerado a partir da consulta: \n",
    "\n",
    "```sql\n",
    "SELECT \n",
    "  data_sessao, \n",
    "  nome_discursante, \n",
    "  SUM(duracao_discurso) duracao_discursos, \n",
    "  STRING_AGG(texto_discurso, ' ') as discurso \n",
    "FROM \n",
    "  `basedosdados.br_senado_cpipandemia.discursos`\n",
    "WHERE \n",
    "  categoria_discursante = 'Depoente/Convidado'\n",
    "GROUP BY data_sessao, nome_discursante\n",
    "ORDER BY data_sessao\n",
    "```"
   ]
  },
  {
   "cell_type": "code",
   "execution_count": 17,
   "metadata": {},
   "outputs": [
    {
     "data": {
      "text/html": [
       "<div>\n",
       "<style scoped>\n",
       "    .dataframe tbody tr th:only-of-type {\n",
       "        vertical-align: middle;\n",
       "    }\n",
       "\n",
       "    .dataframe tbody tr th {\n",
       "        vertical-align: top;\n",
       "    }\n",
       "\n",
       "    .dataframe thead th {\n",
       "        text-align: right;\n",
       "    }\n",
       "</style>\n",
       "<table border=\"1\" class=\"dataframe\">\n",
       "  <thead>\n",
       "    <tr style=\"text-align: right;\">\n",
       "      <th></th>\n",
       "      <th>data_sessao</th>\n",
       "      <th>nome_discursante</th>\n",
       "      <th>duracao_discursos</th>\n",
       "      <th>discurso</th>\n",
       "    </tr>\n",
       "  </thead>\n",
       "  <tbody>\n",
       "    <tr>\n",
       "      <th>0</th>\n",
       "      <td>2021-05-04</td>\n",
       "      <td>LUIZ HENRIQUE MANDETTA</td>\n",
       "      <td>13680</td>\n",
       "      <td>Bom dia a todos! Prometo. Bom dia a todos e a ...</td>\n",
       "    </tr>\n",
       "    <tr>\n",
       "      <th>1</th>\n",
       "      <td>2021-05-05</td>\n",
       "      <td>NELSON LUIZ SPERLE TEICH</td>\n",
       "      <td>6960</td>\n",
       "      <td>Sim. Eu tinha escrito um texto de introdução. ...</td>\n",
       "    </tr>\n",
       "    <tr>\n",
       "      <th>2</th>\n",
       "      <td>2021-05-06</td>\n",
       "      <td>MARCELO QUEIROGA</td>\n",
       "      <td>8400</td>\n",
       "      <td>Posso fazer uma saudação aos Srs. Senadores. E...</td>\n",
       "    </tr>\n",
       "    <tr>\n",
       "      <th>3</th>\n",
       "      <td>2021-05-11</td>\n",
       "      <td>ANTONIO BARRA TORRES</td>\n",
       "      <td>9840</td>\n",
       "      <td>Sim, senhor. Faço. Uma breve declaração, Sr. P...</td>\n",
       "    </tr>\n",
       "    <tr>\n",
       "      <th>4</th>\n",
       "      <td>2021-05-12</td>\n",
       "      <td>FABIO WAJNGARTEN</td>\n",
       "      <td>7440</td>\n",
       "      <td>Sim, sim. Eu gostaria, por favor, Sr. Presiden...</td>\n",
       "    </tr>\n",
       "  </tbody>\n",
       "</table>\n",
       "</div>"
      ],
      "text/plain": [
       "  data_sessao          nome_discursante  duracao_discursos  \\\n",
       "0  2021-05-04    LUIZ HENRIQUE MANDETTA              13680   \n",
       "1  2021-05-05  NELSON LUIZ SPERLE TEICH               6960   \n",
       "2  2021-05-06          MARCELO QUEIROGA               8400   \n",
       "3  2021-05-11      ANTONIO BARRA TORRES               9840   \n",
       "4  2021-05-12          FABIO WAJNGARTEN               7440   \n",
       "\n",
       "                                            discurso  \n",
       "0  Bom dia a todos! Prometo. Bom dia a todos e a ...  \n",
       "1  Sim. Eu tinha escrito um texto de introdução. ...  \n",
       "2  Posso fazer uma saudação aos Srs. Senadores. E...  \n",
       "3  Sim, senhor. Faço. Uma breve declaração, Sr. P...  \n",
       "4  Sim, sim. Eu gostaria, por favor, Sr. Presiden...  "
      ]
     },
     "execution_count": 17,
     "metadata": {},
     "output_type": "execute_result"
    }
   ],
   "source": [
    "all_data_depoente_convidado = pd.read_csv(\"../input/discurso_dia_depoente_convidado.csv\")\n",
    "all_data_depoente_convidado.head()"
   ]
  },
  {
   "cell_type": "markdown",
   "metadata": {},
   "source": [
    "Para a extração de entidades nomeadas foi utilizado o código disponibilizado neste repositório: https://github.com/neuralmind-ai/portuguese-bert. A execução é feita fora deste repositório. Mais detalhes podem se econtrados no repositório do projeto. \n",
    "\n",
    "Neste notebook são gerados os arquivos `.json` que servem de entrada para o algoritmo de extração de entidades. Esses arquivos estão na pasta `output/ner_depoentes_convidados/source`. Cada arquivo corresponde as falas de um Depoente ou Convidado de um dia específico da CPI. "
   ]
  },
  {
   "cell_type": "code",
   "execution_count": 20,
   "metadata": {},
   "outputs": [],
   "source": [
    "final_list_depoente_convidado = []\n",
    "\n",
    "for index, row in all_data_depoente_convidado.iterrows():\n",
    "    dict_ = {\"doc_id\": row['data_sessao'].replace(\"-\",\"\") + \"_\" + row['nome_discursante'].replace(\" \",\"_\"), \"doc_text\": row['discurso']}\n",
    "    final_list_depoente_convidado.append(dict_)"
   ]
  },
  {
   "cell_type": "code",
   "execution_count": 26,
   "metadata": {},
   "outputs": [],
   "source": [
    "for doc in final_list_depoente_convidado:\n",
    "    file_path = \"../output/ner_depoentes_convidados/source/\" + doc[\"doc_id\"] + \".json\"\n",
    "    with open(file_path, 'w') as outfile:\n",
    "        json.dump([doc], outfile)"
   ]
  },
  {
   "cell_type": "markdown",
   "metadata": {},
   "source": [
    "Cada arquivo foi processado pelo algoritmo de extração de entidades e gerado os arquivos da pasta `output/ner_depoentes_convidados/ner_files/`. Cada arquivo dessa pasta corresponde a um dia e um depoente/convidado da CPI. No arquivo é possível ver o texto processado e as entidades extraídas. Esses arquivos foram processados para gerar os arquivos finais. "
   ]
  }
 ],
 "metadata": {
  "interpreter": {
   "hash": "f872a193c411d785a417cb451ad65b981e6d66581d470666f03d0d69e08a512e"
  },
  "kernelspec": {
   "display_name": "Python 3.9.7 ('nlp')",
   "language": "python",
   "name": "python3"
  },
  "language_info": {
   "codemirror_mode": {
    "name": "ipython",
    "version": 3
   },
   "file_extension": ".py",
   "mimetype": "text/x-python",
   "name": "python",
   "nbconvert_exporter": "python",
   "pygments_lexer": "ipython3",
   "version": "3.9.7"
  },
  "orig_nbformat": 4
 },
 "nbformat": 4,
 "nbformat_minor": 2
}
